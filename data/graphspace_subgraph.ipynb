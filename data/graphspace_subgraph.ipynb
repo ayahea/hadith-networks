{
 "cells": [
  {
   "cell_type": "markdown",
   "id": "10b522cc",
   "metadata": {},
   "source": [
    "## Notebook Description\n",
    "This Jupyter Notebook opens a csv file that contains narrators and information on their students/teachers, cleans it up, turns it into a graph, and uploads that graph to GraphSpace. \n",
    "\n",
    "Useful reference: https://graphspace-python-library.readthedocs.io/en/develop/tutorial/tutorial.html "
   ]
  },
  {
   "cell_type": "markdown",
   "id": "fab8b462",
   "metadata": {},
   "source": [
    "## Imports"
   ]
  },
  {
   "cell_type": "code",
   "execution_count": 1,
   "id": "c1d2a549",
   "metadata": {},
   "outputs": [],
   "source": [
    "from graphspace_python.graphs.classes.gsgraph import GSGraph\n",
    "import plotly.express as px\n",
    "import json\n",
    "import pandas as pd"
   ]
  },
  {
   "cell_type": "markdown",
   "id": "4a4e58e3",
   "metadata": {},
   "source": [
    "## Functions"
   ]
  },
  {
   "cell_type": "markdown",
   "id": "e3e91221",
   "metadata": {},
   "source": [
    "### clean_index_list(column_name)\n",
    "- **input**: column_name, a string. The name of the column that stores the strings of comma-separated digits (indices of the scholars - either students or teachers)\n",
    "- **output**: list of numeric indices built from that column\n",
    "\n",
    "basically: strings of lists of numbers ---> turns into ---> lists of numeric indices"
   ]
  },
  {
   "cell_type": "code",
   "execution_count": 31,
   "id": "ed701396",
   "metadata": {},
   "outputs": [],
   "source": [
    "def clean_index_list(column_name): \n",
    "    inds_corrected = []\n",
    "    for indx, data in df.loc[:,[column_name]].iterrows():\n",
    "        \n",
    "        inds_original = data[0] # currently a string of numbers separated by commas\n",
    "        \n",
    "        # if it's null, append it to corrected list: null students = no students.\n",
    "        if pd.isna(inds_original):\n",
    "            inds_corrected.append(inds_original)\n",
    "\n",
    "         # if it's a string, split by commas and turn the strings of digits into ints. \n",
    "        elif isinstance(inds_original, str):\n",
    "            temp = []\n",
    "            for item in inds_original.split(','):\n",
    "                if item.strip().isdigit():\n",
    "                    temp.append(int(item.strip()))\n",
    "                else:\n",
    "                    print(\"Non-numeric character found in what is supposed to be a string of comma-separated digits of teachers or students at id=\"+str(indx)+\", value: \"+item.strip())\n",
    "            inds_corrected.append(temp)\n",
    "        else:\n",
    "            raise TypeError(\"index value at indx \"+str(indx)+\" is neither str nor NaN\")\n",
    "        \n",
    "    return inds_corrected"
   ]
  },
  {
   "cell_type": "markdown",
   "id": "7d691fac",
   "metadata": {},
   "source": [
    "### makegraph(G, df, teacherIDs, studentIDs):\n",
    "- **G**: a GraphSpace graph \n",
    "- **df**: the dataframe that contains the nodes as row entries (scholars) and teacher/student IDs in their columns\n",
    "- **teacherIDs**: string. The name of the column that has the indices of each node's teachers we want to include in the graph.\n",
    "- **studentIDs**: string. The name of the column that has the indices of each node's students we want to include in the graph.\n",
    "\n",
    "This function that takes a graph as input, adds nodes and edges to it, then outputs it. It allows you to specify which graph, dataframe, and column for teachers/students to include. Currently in my csv files, each row/scholar has multiple columns for teachers and students. There is the original teachers/students column that came from muslimscholars.info, and there are additional teachers/students columns that I made that may have more or less teachers/students for each respective scholar. So with this function I get to choose whether I want to specify which edges between each node and its teachers/students are shown, or whether I just want to keep it as the muslimscholars.info data had it. \n",
    "\n",
    "#### Examples: \n",
    "- **makegraph(G, df, 'students_inds', 'teachers_inds'):**\n",
    "    - 'students_inds' and 'teachers_inds' are the names of the original columns with teacher/student IDs in them as taken from muslimscholars.info. So this will makes edges between nodes of the csv if they had any teacher/student relationship, regardless of whether it traces back to the node of interest (e.g.: Aishah) or not. So for example, if I wanted to make a graph just of Aishah and the hadiths she transmitted to her students and the hadiths her students transmitted from HER to their students, this graph would not work - because it would show edges between her teachers/students if they transmitted ANY hadiths to each other, regardless of whether the hadith was transmitted from Aishah or not.\n",
    "- **makegraph(G, df, 'specified_teachers', 'specified_students')**\n",
    "    - 'specified_teachers' and 'specified_students' are the names of the columns where I've specified which students/teachers to include for each scholar. For example, if our specified scholar is Aishah r.a., then the graph should have edges from her to all her students (the ones listed in the csv) and from her students to her students' students. It is essentially a subgraph of interrelationships() in that the interrelationships() should include all the edges in onescholar(), but not necessarily the other way around. interrelationships() might show connections between students and students' students whether the hadiths they transmitted to each other were narrated originally from Aishah r.a. or someone else, whereas onescholar() should only show the edges that trace back to Aishah r.a."
   ]
  },
  {
   "cell_type": "code",
   "execution_count": 33,
   "id": "dc549ed4",
   "metadata": {},
   "outputs": [],
   "source": [
    "def makegraph(G, df, teachersIDs, studentIDs):\n",
    "    # add nodes to G\n",
    "    for indx, data in df.iterrows():\n",
    "        # The node's id is its scholar_indx, NOT its row number as in previous versions.\n",
    "        G.add_node(int(df['scholar_indx'][indx]),name=data['name'], label=data['name'],gender=data['gender'])\n",
    "\n",
    "    # keep track of all the scholar indices who have nodes in the graph/entries in the data\n",
    "    # this is because I only want to include nodes of scholars who have their own entries in the data set, and not necessarily any scholar that may be listed as a student/teacher of another.\n",
    "    scholars_with_entries = []\n",
    "    for indx, scholar_indx in df.loc[:,['scholar_indx']].iterrows():\n",
    "        scholars_with_entries += [int(scholar_indx)]\n",
    "\n",
    "\n",
    "    # add edges from students_inds\n",
    "    for teacher, students in df[studentIDs].items():\n",
    "        if isinstance(pd.isna(students), bool):\n",
    "            pass\n",
    "        else:\n",
    "            for student in students:\n",
    "                # check to make sure the student/teacher each have their own entries in the data\n",
    "                # note: once I make it so that the teacher/student lists are only for nodes that exist in the data, I might not need this except for as a sanity check\n",
    "                if not ((student in scholars_with_entries) & (int(df['scholar_indx'][teacher]) in scholars_with_entries)):\n",
    "                    pass\n",
    "                elif G.has_edge(int(df['scholar_indx'][teacher]), student):\n",
    "                    pass\n",
    "                else:\n",
    "                    G.add_edge(int(df['scholar_indx'][teacher]), student, directed=True)\n",
    "\n",
    "    # add edges from teachers_inds \n",
    "    for student, teachers in df[teachersIDs].items():\n",
    "        if isinstance(pd.isna(teachers), bool):\n",
    "            pass\n",
    "        else:\n",
    "            for teacher in teachers:\n",
    "                # check to make sure the student/teacher each have their own entries in the data\n",
    "                if not ((int(df['scholar_indx'][student]) in scholars_with_entries) & (teacher in scholars_with_entries)):\n",
    "                    pass\n",
    "                elif G.has_edge(teacher, int(df['scholar_indx'][student])):\n",
    "                    pass\n",
    "                else:\n",
    "                    G.add_edge(teacher, int(df['scholar_indx'][student]), directed=True)\n",
    "    \n",
    "    return G"
   ]
  },
  {
   "cell_type": "markdown",
   "id": "e8caec5b",
   "metadata": {},
   "source": [
    "## Making the graph"
   ]
  },
  {
   "cell_type": "markdown",
   "id": "621e9ed7",
   "metadata": {},
   "source": [
    "### Clean the data"
   ]
  },
  {
   "cell_type": "code",
   "execution_count": null,
   "id": "6a508f6e",
   "metadata": {},
   "outputs": [],
   "source": [
    "# Read the csv as a dataframe\n",
    "#df = pd.read_csv('sourcedata/narratorsTESTING.csv')\n",
    "df = pd.read_csv('sourcedata/aishah.csv')"
   ]
  },
  {
   "cell_type": "code",
   "execution_count": null,
   "id": "e95f13cc",
   "metadata": {},
   "outputs": [],
   "source": [
    "# Clean the columns with the teacher/student indices\n",
    "\n",
    "specified_teachers_corrected = clean_index_list('specified_teachers')\n",
    "specified_students_corrected = clean_index_list('specified_students')\n",
    "\n",
    "# remove old columns and \n",
    "del df['specified_teachers']\n",
    "del df['specified_students']\n",
    "\n",
    "# assign corrected columns to the dataset\n",
    "#df = df.assign(students_inds=students_inds_corrected, teachers_inds=teachers_inds_corrected)\n",
    "df = df.assign(specified_teachers=specified_teachers_corrected, specified_students=specified_students_corrected)\n",
    "df"
   ]
  },
  {
   "cell_type": "markdown",
   "id": "1b055e6a",
   "metadata": {},
   "source": [
    "### Make the graph"
   ]
  },
  {
   "cell_type": "code",
   "execution_count": null,
   "id": "f843c62c",
   "metadata": {},
   "outputs": [],
   "source": [
    "# Set up connection to GraphSpace\n",
    "\n",
    "from graphspace_python.api.client import GraphSpace\n",
    "graphspace = GraphSpace('YOUR USERNAME OR EMAIL', 'YOUR PASSWORD')"
   ]
  },
  {
   "cell_type": "code",
   "execution_count": 34,
   "id": "a51126fd",
   "metadata": {},
   "outputs": [
    {
     "name": "stdout",
     "output_type": "stream",
     "text": [
      "There are 27 nodes and 32 edges in the original graph.\n"
     ]
    },
    {
     "data": {
      "text/plain": [
       "OutEdgeView([(1, 53), (1, 2), (1, 3), (1, 6), (1, 9), (1, 63), (1, 961), (53, 70), (53, 106), (53, 13), (53, 17), (53, 18), (53, 41), (53, 28), (53, 10535), (53, 10511), (53, 10520), (53, 10522), (53, 11002), (53, 10504), (53, 10567), (53, 11455), (10511, 11013), (10511, 11065), (10535, 11555), (10535, 10530), (2, 53), (3, 53), (6, 53), (9, 53), (63, 53), (961, 53)])"
      ]
     },
     "execution_count": 34,
     "metadata": {},
     "output_type": "execute_result"
    }
   ],
   "source": [
    "# Create a variable and initialize it as a GraphSpace graph\n",
    "aishah = GSGraph()\n",
    "\n",
    "# set metadata for the graph\n",
    "metadata = {\n",
    "     'description': 'This is a graph of hadith narrators - work in progress',\n",
    "     'directed': True\n",
    "}\n",
    "aishah.set_data(metadata)\n",
    "\n",
    "# make a graph using 'students_inds' and 'teachers_inds' as the names of the columns we want to use for teacher/student info\n",
    "aishah = makegraph(aishah, df, 'specified_teachers', 'specified_students')\n",
    "\n",
    "print('There are '+str(len(aishah.nodes))+' nodes and '+\n",
    "      str(len(aishah.edges))+' edges in the original graph.')\n",
    "aishah.nodes()\n",
    "aishah.edges"
   ]
  },
  {
   "cell_type": "code",
   "execution_count": 36,
   "id": "8fd2fc41",
   "metadata": {},
   "outputs": [
    {
     "data": {
      "text/plain": [
       "34132"
      ]
     },
     "execution_count": 36,
     "metadata": {},
     "output_type": "execute_result"
    }
   ],
   "source": [
    "graph = graphspace.post_graph(aishah)\n",
    "graph.get_name()\n",
    "graph.id"
   ]
  },
  {
   "cell_type": "code",
   "execution_count": null,
   "id": "93cea43f",
   "metadata": {},
   "outputs": [],
   "source": []
  }
 ],
 "metadata": {
  "kernelspec": {
   "display_name": "Python 3 (ipykernel)",
   "language": "python",
   "name": "python3"
  },
  "language_info": {
   "codemirror_mode": {
    "name": "ipython",
    "version": 3
   },
   "file_extension": ".py",
   "mimetype": "text/x-python",
   "name": "python",
   "nbconvert_exporter": "python",
   "pygments_lexer": "ipython3",
   "version": "3.7.3"
  }
 },
 "nbformat": 4,
 "nbformat_minor": 5
}
